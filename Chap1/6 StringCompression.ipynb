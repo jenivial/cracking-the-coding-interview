{
 "cells": [
  {
   "cell_type": "markdown",
   "metadata": {
    "dotnet_interactive": {
     "language": "csharp"
    }
   },
   "source": [
    "# StringCompression"
   ]
  },
  {
   "cell_type": "code",
   "execution_count": null,
   "metadata": {
    "dotnet_interactive": {
     "language": "csharp"
    }
   },
   "outputs": [],
   "source": [
    "var tc1 = \"aabcccccaaa\";\r\n",
    "var tc2 = \"abcd\";\r\n",
    "var tc3 = \"aabcccccaaad\";"
   ]
  },
  {
   "cell_type": "code",
   "execution_count": null,
   "metadata": {
    "dotnet_interactive": {
     "language": "csharp"
    }
   },
   "outputs": [],
   "source": [
    "public string Compression(string st)\r\n",
    "{\r\n",
    "    var result = new StringBuilder();\r\n",
    "    var currentCharacter = st[0];\r\n",
    "    var counter = 0;\r\n",
    "    foreach(var c in st)\r\n",
    "    {\r\n",
    "        if(c == currentCharacter)\r\n",
    "        {\r\n",
    "            counter++;\r\n",
    "        }\r\n",
    "        else\r\n",
    "        {\r\n",
    "            result.Append(currentCharacter + counter.ToString());\r\n",
    "            currentCharacter = c;\r\n",
    "            counter = 1;\r\n",
    "        }\r\n",
    "    }\r\n",
    "\r\n",
    "    result.Append(currentCharacter + counter.ToString());\r\n",
    "\r\n",
    "    if(result.Length >= st.Length)\r\n",
    "    {\r\n",
    "        return st;\r\n",
    "    }\r\n",
    "\r\n",
    "    return result.ToString();\r\n",
    "}"
   ]
  },
  {
   "cell_type": "code",
   "execution_count": null,
   "metadata": {
    "dotnet_interactive": {
     "language": "csharp"
    }
   },
   "outputs": [
    {
     "data": {
      "text/plain": "a2b1c5a3"
     },
     "output_type": "unknown"
    },
    {
     "data": {
      "text/plain": "abcd"
     },
     "output_type": "unknown"
    },
    {
     "data": {
      "text/plain": "a2b1c5a3d1"
     },
     "output_type": "unknown"
    }
   ],
   "source": [
    "Console.Write(Compression(tc1));\r\n",
    "Console.Write(Compression(tc2));\r\n",
    "Console.Write(Compression(tc3));\r\n"
   ]
  }
 ],
 "metadata": {
  "kernelspec": {
   "display_name": ".NET (C#)",
   "language": "C#",
   "name": ".net-csharp"
  },
  "language_info": {
   "file_extension": ".cs",
   "mimetype": "text/x-csharp",
   "name": "C#",
   "pygments_lexer": "csharp",
   "version": "9.0"
  },
  "orig_nbformat": 2
 },
 "nbformat": 4,
 "nbformat_minor": 2
}