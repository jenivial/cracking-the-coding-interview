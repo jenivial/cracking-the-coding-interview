{
 "cells": [
  {
   "cell_type": "markdown",
   "metadata": {},
   "source": [
    "# Palindrome permutation"
   ]
  },
  {
   "cell_type": "code",
   "execution_count": null,
   "metadata": {
    "dotnet_interactive": {
     "language": "csharp"
    }
   },
   "outputs": [],
   "source": [
    "var tc1 = \"Tact Coa\";\r\n",
    "var tc2 = \"Tact Coaa\";"
   ]
  },
  {
   "cell_type": "code",
   "execution_count": null,
   "metadata": {
    "dotnet_interactive": {
     "language": "csharp"
    }
   },
   "outputs": [],
   "source": [
    "bool IsPalindromePermutation(string st)\r\n",
    "{\r\n",
    "    var dict = new Dictionary<char,int>();\r\n",
    "    st = st.ToLower();\r\n",
    "    foreach(var c in st)\r\n",
    "    {\r\n",
    "        if(c != ' ')\r\n",
    "        {\r\n",
    "            if(!dict.ContainsKey(c))\r\n",
    "            {\r\n",
    "                dict.Add(c, 0);\r\n",
    "            }\r\n",
    "\r\n",
    "            dict[c] += 1;\r\n",
    "        }\r\n",
    "        \r\n",
    "    }\r\n",
    "\r\n",
    "    var justOne = false;\r\n",
    "    foreach(var kvp in dict)\r\n",
    "    {\r\n",
    "        if(kvp.Value % 2 != 0 && justOne == true)\r\n",
    "        {\r\n",
    "            return false;\r\n",
    "        }\r\n",
    "\r\n",
    "        if(justOne == false && kvp.Value % 2 != 0)\r\n",
    "        {\r\n",
    "            justOne = true;\r\n",
    "        }\r\n",
    "    }\r\n",
    "\r\n",
    "    return true;\r\n",
    "}"
   ]
  },
  {
   "cell_type": "code",
   "execution_count": null,
   "metadata": {
    "dotnet_interactive": {
     "language": "csharp"
    }
   },
   "outputs": [
    {
     "data": {
      "text/plain": [
       "True\r\n"
      ]
     },
     "output_type": "unknown"
    },
    {
     "data": {
      "text/plain": [
       "False\r\n"
      ]
     },
     "output_type": "unknown"
    }
   ],
   "source": [
    "Console.WriteLine(IsPalindromePermutation(tc1));\r\n",
    "Console.WriteLine(IsPalindromePermutation(tc2));\r\n"
   ]
  },
  {
   "cell_type": "markdown",
   "metadata": {},
   "source": [
    "Book solution is really interesting so im gonna make it in c#"
   ]
  },
  {
   "cell_type": "code",
   "execution_count": null,
   "metadata": {
    "dotnet_interactive": {
     "language": "csharp"
    }
   },
   "outputs": [
    {
     "data": {
      "text/plain": [
       "True\r\n"
      ]
     },
     "output_type": "unknown"
    },
    {
     "data": {
      "text/plain": [
       "False\r\n"
      ]
     },
     "output_type": "unknown"
    }
   ],
   "source": [
    "public static int GetCharNumber(char c)\r\n",
    "{\r\n",
    "    var val = char.ToLower(c) - 'a';\r\n",
    "    if (0 <= val && val <= 25)\r\n",
    "    {\r\n",
    "        return val;\r\n",
    "    }\r\n",
    "    \r\n",
    "    return -1;\r\n",
    "}\r\n",
    "\r\n",
    "public static int Toggle(int bitVector, int index)\r\n",
    "{\r\n",
    "    if (index < 0) return bitVector;\r\n",
    "    int mask = 1 << index;\r\n",
    "    if ((bitVector & mask) == 0)\r\n",
    "    {\r\n",
    "        bitVector |= mask;\r\n",
    "    }\r\n",
    "    else \r\n",
    "    {\r\n",
    "        bitVector &= ~mask;\r\n",
    "    }\r\n",
    "    return bitVector;\r\n",
    "}\r\n",
    "\r\n",
    "/* Create bit vector for string. For each letter with value i,\r\n",
    " * toggle the ith bit. */\r\n",
    "\r\n",
    "public static int MarkBitForOddCharacterCount(string phrase)\r\n",
    "{\r\n",
    "    int bitVector = 0;\r\n",
    "    foreach (var c in phrase)\r\n",
    "    {\r\n",
    "        int x = GetCharNumber(c);\r\n",
    "        bitVector = Toggle(bitVector, x);\r\n",
    "    }\r\n",
    "    return bitVector;\r\n",
    "}\r\n",
    "\r\n",
    "/* Check that exactly one bit is set by subtracting one from the\r\n",
    " * integer and ANDing it with the original integer. */\r\n",
    "\r\n",
    "public static bool CheckExactlyOneBitSet(int bitVector)\r\n",
    "{\r\n",
    "    return (bitVector & (bitVector - 1)) == 0;\r\n",
    "}\r\n",
    "\r\n",
    "public static bool IsPermutationOfPalindrome(string phrase)\r\n",
    "{\r\n",
    "    int bitVector = MarkBitForOddCharacterCount(phrase);\r\n",
    "    return bitVector == 0 || CheckExactlyOneBitSet(bitVector);\r\n",
    "}\r\n",
    "\r\n",
    "Console.WriteLine(IsPermutationOfPalindrome(tc1));\r\n",
    "Console.WriteLine(IsPermutationOfPalindrome(tc2));"
   ]
  }
 ],
 "metadata": {
  "kernelspec": {
   "display_name": ".NET (C#)",
   "language": "C#",
   "name": ".net-csharp"
  },
  "language_info": {
   "name": "C#",
   "version": ""
  },
  "orig_nbformat": 2
 },
 "nbformat": 4,
 "nbformat_minor": 2
}