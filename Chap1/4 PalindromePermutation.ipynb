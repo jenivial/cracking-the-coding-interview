{
 "cells": [
  {
   "cell_type": "markdown",
   "metadata": {},
   "source": [
    "# Palindrome permutation"
   ]
  },
  {
   "cell_type": "code",
   "execution_count": null,
   "metadata": {
    "dotnet_interactive": {
     "language": "csharp"
    }
   },
   "outputs": [],
   "source": [
    "var tc1 = \"Tact Coa\";\r\n",
    "var tc2 = \"Tact Coaa\";"
   ]
  },
  {
   "cell_type": "code",
   "execution_count": null,
   "metadata": {
    "dotnet_interactive": {
     "language": "csharp"
    }
   },
   "outputs": [],
   "source": [
    "bool IsPalindromePermutation(string st)\r\n",
    "{\r\n",
    "    var dict = new Dictionary<char,int>();\r\n",
    "    st = st.ToLower();\r\n",
    "    foreach(var c in st)\r\n",
    "    {\r\n",
    "        if(c != ' ')\r\n",
    "        {\r\n",
    "            if(!dict.ContainsKey(c))\r\n",
    "            {\r\n",
    "                dict.Add(c, 0);\r\n",
    "            }\r\n",
    "\r\n",
    "            dict[c] += 1;\r\n",
    "        }\r\n",
    "        \r\n",
    "    }\r\n",
    "\r\n",
    "    var justOne = false;\r\n",
    "    foreach(var kvp in dict)\r\n",
    "    {\r\n",
    "        if(kvp.Value % 2 != 0 && justOne == true)\r\n",
    "        {\r\n",
    "            return false;\r\n",
    "        }\r\n",
    "\r\n",
    "        if(justOne == false && kvp.Value % 2 != 0)\r\n",
    "        {\r\n",
    "            justOne = true;\r\n",
    "        }\r\n",
    "    }\r\n",
    "\r\n",
    "    return true;\r\n",
    "}"
   ]
  },
  {
   "cell_type": "code",
   "execution_count": null,
   "metadata": {
    "dotnet_interactive": {
     "language": "csharp"
    }
   },
   "outputs": [
    {
     "data": {
      "text/plain": "True\r\n"
     },
     "output_type": "unknown"
    },
    {
     "data": {
      "text/plain": "False\r\n"
     },
     "output_type": "unknown"
    }
   ],
   "source": [
    "Console.WriteLine(IsPalindromePermutation(tc1));\r\n",
    "Console.WriteLine(IsPalindromePermutation(tc2));\r\n"
   ]
  },
  {
   "cell_type": "markdown",
   "metadata": {},
   "source": [
    "Book solution is really interesting so im gonna make it in c#"
   ]
  },
  {
   "cell_type": "code",
   "execution_count": null,
   "metadata": {
    "dotnet_interactive": {
     "language": "csharp"
    }
   },
   "outputs": [],
   "source": []
  }
 ],
 "metadata": {
  "kernelspec": {
   "display_name": ".NET (C#)",
   "language": "C#",
   "name": ".net-csharp"
  },
  "language_info": {
   "file_extension": ".cs",
   "mimetype": "text/x-csharp",
   "name": "C#",
   "pygments_lexer": "csharp",
   "version": "9.0"
  },
  "orig_nbformat": 2
 },
 "nbformat": 4,
 "nbformat_minor": 2
}