{
 "cells": [
  {
   "cell_type": "markdown",
   "metadata": {},
   "source": [
    "# Is Unique\r\n",
    "Implement an algorithm to determine if a string has all unique characters, What if you cannot use additional data structures?"
   ]
  },
  {
   "cell_type": "markdown",
   "metadata": {},
   "source": [
    "# Is Unique with additional data structures."
   ]
  },
  {
   "cell_type": "code",
   "execution_count": null,
   "metadata": {
    "dotnet_interactive": {
     "language": "csharp"
    }
   },
   "outputs": [],
   "source": [
    "var tc1 = \"abcd\"; // true\n",
    "var tc2 = \"abcdd\"; // false"
   ]
  },
  {
   "cell_type": "code",
   "execution_count": null,
   "metadata": {
    "dotnet_interactive": {
     "language": "csharp"
    }
   },
   "outputs": [],
   "source": [
    "bool IsUnique(string toValidate)\n",
    "{\n",
    "    var HS = new HashSet<char>();\n",
    "    \n",
    "    foreach(var c in toValidate)\n",
    "    {\n",
    "        if(HS.Contains(c))\n",
    "        {\n",
    "            return false;\n",
    "        }\n",
    "        \n",
    "        HS.Add(c);\n",
    "    }\n",
    "    \n",
    "    return true;\n",
    "}"
   ]
  },
  {
   "cell_type": "code",
   "execution_count": null,
   "metadata": {
    "dotnet_interactive": {
     "language": "csharp"
    }
   },
   "outputs": [
    {
     "name": "stdout",
     "output_type": "stream",
     "text": [
      "True\n",
      "False\n"
     ]
    }
   ],
   "source": [
    "Console.WriteLine(IsUnique(tc1));\n",
    "Console.WriteLine(IsUnique(tc2));"
   ]
  },
  {
   "cell_type": "markdown",
   "metadata": {},
   "source": [
    "# Is Unique without additional data structures."
   ]
  },
  {
   "cell_type": "code",
   "execution_count": null,
   "metadata": {
    "dotnet_interactive": {
     "language": "csharp"
    }
   },
   "outputs": [],
   "source": [
    "bool IsUnique2(string toValidate)\n",
    "{\n",
    "    for(var i = 0;i < toValidate.Length -1; i++)\n",
    "    {\n",
    "        for(var j = i + 1;j < toValidate.Length; j++)\n",
    "        {\n",
    "            if(toValidate[i] == toValidate[j])\n",
    "            {\n",
    "                return false;\n",
    "            }\n",
    "        }\n",
    "    }\n",
    "    \n",
    "    return true;\n",
    "}"
   ]
  },
  {
   "cell_type": "code",
   "execution_count": null,
   "metadata": {
    "dotnet_interactive": {
     "language": "csharp"
    }
   },
   "outputs": [
    {
     "name": "stdout",
     "output_type": "stream",
     "text": [
      "True\n",
      "False\n"
     ]
    }
   ],
   "source": [
    "Console.WriteLine(IsUnique2(tc1));\n",
    "Console.WriteLine(IsUnique2(tc2));"
   ]
  },
  {
   "cell_type": "code",
   "execution_count": null,
   "metadata": {
    "dotnet_interactive": {
     "language": "csharp"
    }
   },
   "outputs": [],
   "source": []
  }
 ],
 "metadata": {
  "kernelspec": {
   "display_name": ".NET (C#)",
   "language": "C#",
   "name": ".net-csharp"
  },
  "language_info": {
   "name": "C#",
   "version": ""
  }
 },
 "nbformat": 4,
 "nbformat_minor": 4
}