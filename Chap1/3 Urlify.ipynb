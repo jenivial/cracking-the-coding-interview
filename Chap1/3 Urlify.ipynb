{
 "cells": [
  {
   "cell_type": "markdown",
   "metadata": {},
   "source": [
    "# URLify\r\n",
    "Replace all spaces with %20"
   ]
  },
  {
   "cell_type": "code",
   "execution_count": null,
   "metadata": {
    "dotnet_interactive": {
     "language": "csharp"
    }
   },
   "outputs": [],
   "source": [
    "var ex1 = \"Mr John Smith    \";"
   ]
  },
  {
   "cell_type": "code",
   "execution_count": null,
   "metadata": {
    "dotnet_interactive": {
     "language": "csharp"
    }
   },
   "outputs": [],
   "source": [
    "string UrlIfy(string stp)\r\n",
    "{\r\n",
    "    var st = stp.ToCharArray();\r\n",
    "    var finalIndex = st.Length - 1;\r\n",
    "    var start = false;\r\n",
    "    for(int i = st.Length - 1; i >= 0; i--)\r\n",
    "    {\r\n",
    "        if(st[i] != ' ')\r\n",
    "        {\r\n",
    "            start = true;\r\n",
    "        }\r\n",
    "\r\n",
    "        if(start)\r\n",
    "        {\r\n",
    "            if(st[i] != ' ')\r\n",
    "            {\r\n",
    "                st[finalIndex] = st[i];\r\n",
    "                finalIndex--;\r\n",
    "            }\r\n",
    "            else\r\n",
    "            {\r\n",
    "                st[finalIndex--] = '0';\r\n",
    "                st[finalIndex--] = '2';\r\n",
    "                st[finalIndex--] = '%'; \r\n",
    "            }\r\n",
    "            \r\n",
    "        }\r\n",
    "    } \r\n",
    "\r\n",
    "    return  new string(st);\r\n",
    "}"
   ]
  },
  {
   "cell_type": "code",
   "execution_count": null,
   "metadata": {
    "dotnet_interactive": {
     "language": "csharp"
    }
   },
   "outputs": [
    {
     "data": {
      "text/plain": [
       "Mr%20John%20Smith\r\n"
      ]
     },
     "output_type": "unknown"
    }
   ],
   "source": [
    "Console.WriteLine(UrlIfy(ex1));"
   ]
  }
 ],
 "metadata": {
  "kernelspec": {
   "display_name": ".NET (C#)",
   "language": "C#",
   "name": ".net-csharp"
  },
  "language_info": {
   "name": "C#",
   "version": ""
  },
  "orig_nbformat": 2
 },
 "nbformat": 4,
 "nbformat_minor": 2
}