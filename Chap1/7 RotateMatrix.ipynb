{
 "cells": [
  {
   "cell_type": "markdown",
   "metadata": {},
   "source": [
    "# Rotate matrix"
   ]
  },
  {
   "cell_type": "code",
   "execution_count": null,
   "metadata": {
    "dotnet_interactive": {
     "language": "csharp"
    }
   },
   "outputs": [],
   "source": [
    "var m1 = new int[5,5]{ { 1, 2, 3, 4, 5 },\r\n",
    "                       { 6, 7, 8, 9, 10 },\r\n",
    "                       { 11, 12, 13, 14, 15 },\r\n",
    "                       { 16, 17, 18, 19, 20 },\r\n",
    "                       { 21, 22, 23, 24, 25 }};\r\n"
   ]
  },
  {
   "cell_type": "code",
   "execution_count": null,
   "metadata": {
    "dotnet_interactive": {
     "language": "csharp"
    }
   },
   "outputs": [],
   "source": [
    "public void PrintMatrix(int[,] matrix)\r\n",
    "{\r\n",
    "    var x = matrix.GetLength(0);\r\n",
    "    var y = matrix.GetLength(1);\r\n",
    "\r\n",
    "    for(int i = 0;i < y; i++)\r\n",
    "    {\r\n",
    "        var row = new StringBuilder();\r\n",
    "        for(int j = 0; j < x;j++)\r\n",
    "        {\r\n",
    "            row.Append(matrix[j,i] + \" \");\r\n",
    "        }\r\n",
    "        \r\n",
    "        Console.WriteLine(row.ToString());\r\n",
    "    }\r\n",
    "}"
   ]
  },
  {
   "cell_type": "code",
   "execution_count": null,
   "metadata": {
    "dotnet_interactive": {
     "language": "csharp"
    }
   },
   "outputs": [],
   "source": [
    "public int[] Get90Position(int[] pos, int start,int end)\r\n",
    "{\r\n",
    "    var x = pos[0];\r\n",
    "    var y = pos[1];\r\n",
    "    var result = new int[2];\r\n",
    "    \r\n",
    "    \r\n",
    "    if(x == start)\r\n",
    "    {\r\n",
    "        result[0] = end + (start - y);\r\n",
    "        result[1] = start;    \r\n",
    "    }\r\n",
    "    else if(y == start)\r\n",
    "    {\r\n",
    "        result[0] = end;\r\n",
    "        result[1] = x;\r\n",
    "    }\r\n",
    "    else if(y == end)\r\n",
    "    {\r\n",
    "        result[0] = start;\r\n",
    "        result[1] = x;\r\n",
    "    }\r\n",
    "    else if(x == end)\r\n",
    "    {\r\n",
    "        result[0] = end + (start - y);\r\n",
    "        result[1] = end;\r\n",
    "    }\r\n",
    "\r\n",
    "    return result;\r\n",
    "}\r\n",
    "\r\n",
    "public int[,] RotateMatrix(int[,] matrix)\r\n",
    "{\r\n",
    "    var n = matrix.GetLength(0);\r\n",
    "    var length = n;\r\n",
    "    for(int i = 0; i < length / 2; i++)\r\n",
    "    {\r\n",
    "        for(int j = i; j < length - i; j++)\r\n",
    "        {\r\n",
    "            var start = i;\r\n",
    "            var end = length - i - 1;\r\n",
    "\r\n",
    "            var lastChanged = new int[2];\r\n",
    "            lastChanged[0] = j;\r\n",
    "            lastChanged[1] = i;\r\n",
    "            \r\n",
    "            var lastValue = matrix[j, i];\r\n",
    "            for(int k = 0; k < 4; k++)\r\n",
    "            {\r\n",
    "                lastChanged = Get90Position(lastChanged,start,end);\r\n",
    "                var temporal = matrix[lastChanged[0],lastChanged[1]];\r\n",
    "                matrix[lastChanged[0],lastChanged[1]] = lastValue;\r\n",
    "                lastValue = temporal;\r\n",
    "            }   \r\n",
    "        }\r\n",
    "    }\r\n",
    "\r\n",
    "    return matrix;\r\n",
    "}\r\n"
   ]
  },
  {
   "cell_type": "code",
   "execution_count": null,
   "metadata": {
    "dotnet_interactive": {
     "language": "csharp"
    }
   },
   "outputs": [
    {
     "data": {
      "text/plain": "7 22 23 24 7 \r\n"
     },
     "output_type": "unknown"
    },
    {
     "data": {
      "text/plain": "16 7 18 7 20 \r\n"
     },
     "output_type": "unknown"
    },
    {
     "data": {
      "text/plain": "11 12 13 14 15 \r\n"
     },
     "output_type": "unknown"
    },
    {
     "data": {
      "text/plain": "6 9 8 7 10 \r\n"
     },
     "output_type": "unknown"
    },
    {
     "data": {
      "text/plain": "5 2 3 4 7 \r\n"
     },
     "output_type": "unknown"
    },
    {
     "data": {
      "text/plain": "7 6 11 16 7 \r\n"
     },
     "output_type": "unknown"
    },
    {
     "data": {
      "text/plain": "2 7 12 7 22 \r\n"
     },
     "output_type": "unknown"
    },
    {
     "data": {
      "text/plain": "3 8 13 18 23 \r\n"
     },
     "output_type": "unknown"
    },
    {
     "data": {
      "text/plain": "4 9 14 7 24 \r\n"
     },
     "output_type": "unknown"
    },
    {
     "data": {
      "text/plain": "5 10 15 20 7 \r\n"
     },
     "output_type": "unknown"
    }
   ],
   "source": [
    "PrintMatrix(m1);\r\n",
    "PrintMatrix(RotateMatrix(m1));\r\n",
    "//PrintMatrix(RotateMatrix(m2));\r\n"
   ]
  }
 ],
 "metadata": {
  "kernelspec": {
   "display_name": ".NET (C#)",
   "language": "C#",
   "name": ".net-csharp"
  },
  "language_info": {
   "file_extension": ".cs",
   "mimetype": "text/x-csharp",
   "name": "C#",
   "pygments_lexer": "csharp",
   "version": "9.0"
  },
  "orig_nbformat": 2
 },
 "nbformat": 4,
 "nbformat_minor": 2
}