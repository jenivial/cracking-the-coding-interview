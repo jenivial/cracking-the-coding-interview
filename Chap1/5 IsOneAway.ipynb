{
 "cells": [
  {
   "cell_type": "markdown",
   "metadata": {},
   "source": [
    "# OneAway"
   ]
  },
  {
   "cell_type": "code",
   "execution_count": null,
   "metadata": {
    "dotnet_interactive": {
     "language": "csharp"
    }
   },
   "outputs": [],
   "source": [
    "// remove\r\n",
    "var tc11 = \"pale\";\r\n",
    "var tc12 = \"ple\";\r\n",
    "\r\n",
    "//insert\r\n",
    "var tc21 = \"pale\";\r\n",
    "var tc22 = \"pales\";\r\n",
    "\r\n",
    "//replace\r\n",
    "var tc31 = \"pale\";\r\n",
    "var tc32 = \"bale\";\r\n",
    "\r\n",
    "// non\r\n",
    "var tc41 = \"pale\";\r\n",
    "var tc42 = \"bake\";\r\n"
   ]
  },
  {
   "cell_type": "code",
   "execution_count": null,
   "metadata": {
    "dotnet_interactive": {
     "language": "csharp"
    }
   },
   "outputs": [],
   "source": [
    "bool IsOneAway(string st1, string st2)\r\n",
    "{\r\n",
    "    // Replace\r\n",
    "    if(st1.Length == st2.Length)\r\n",
    "    {\r\n",
    "        var isOnlyOneReplace = false;\r\n",
    "        for(int i = 0; i < st1.Length; i++)\r\n",
    "        {\r\n",
    "            if(st1[i] != st2[i])\r\n",
    "            {\r\n",
    "                if(isOnlyOneReplace)\r\n",
    "                {\r\n",
    "                    return false;\r\n",
    "                }\r\n",
    "\r\n",
    "                isOnlyOneReplace = true;\r\n",
    "            }\r\n",
    "        }\r\n",
    "\r\n",
    "        return true;\r\n",
    "    }\r\n",
    "    // Remove\r\n",
    "    else if(st1.Length == st2.Length + 1)\r\n",
    "    {\r\n",
    "        var hasBeenFoundFirstCharacterReplaced = false;\r\n",
    "        for(int i = 0; i < st1.Length; i++)\r\n",
    "        {\r\n",
    "            if(hasBeenFoundFirstCharacterReplaced)\r\n",
    "            {\r\n",
    "                if(st1[i] != st2[i - 1])\r\n",
    "                {\r\n",
    "                    return false;\r\n",
    "                }    \r\n",
    "            }\r\n",
    "            \r\n",
    "            if(st1[i] != st2[i])\r\n",
    "            {\r\n",
    "                hasBeenFoundFirstCharacterReplaced = true;    \r\n",
    "            }\r\n",
    "\r\n",
    "            if(i == st2.Length - 1)\r\n",
    "            {\r\n",
    "                return true;\r\n",
    "            }\r\n",
    "        }\r\n",
    "    }\r\n",
    "    // Insert\r\n",
    "    else if(st1.Length + 1 == st2.Length)\r\n",
    "    {\r\n",
    "        var hasBeenFoundCharacterInserted = false;\r\n",
    "        \r\n",
    "        for(int i = 0; i < st2.Length; i++)\r\n",
    "        {\r\n",
    "            if(hasBeenFoundCharacterInserted)\r\n",
    "            {\r\n",
    "                if(st1[i - 1] != st2[i])\r\n",
    "                {\r\n",
    "                    return false;\r\n",
    "                }    \r\n",
    "            }\r\n",
    "            \r\n",
    "            if(st1[i] != st2[i])\r\n",
    "            {\r\n",
    "                hasBeenFoundCharacterInserted = true;    \r\n",
    "            }\r\n",
    "\r\n",
    "            if(i == st1.Length - 1)\r\n",
    "            {\r\n",
    "                return true;\r\n",
    "            }\r\n",
    "        }\r\n",
    "    }\r\n",
    "\r\n",
    "    return false;\r\n",
    "}"
   ]
  },
  {
   "cell_type": "code",
   "execution_count": null,
   "metadata": {
    "dotnet_interactive": {
     "language": "csharp"
    }
   },
   "outputs": [
    {
     "data": {
      "text/plain": [
       "True\r\n"
      ]
     },
     "output_type": "unknown"
    }
   ],
   "source": [
    "Console.WriteLine(IsOneAway(tc11,tc12));\r\n"
   ]
  },
  {
   "cell_type": "code",
   "execution_count": null,
   "metadata": {
    "dotnet_interactive": {
     "language": "csharp"
    }
   },
   "outputs": [
    {
     "data": {
      "text/plain": [
       "True\r\n"
      ]
     },
     "output_type": "unknown"
    }
   ],
   "source": [
    "Console.WriteLine(IsOneAway(tc21,tc22));\r\n"
   ]
  },
  {
   "cell_type": "code",
   "execution_count": null,
   "metadata": {
    "dotnet_interactive": {
     "language": "csharp"
    }
   },
   "outputs": [
    {
     "data": {
      "text/plain": [
       "True\r\n"
      ]
     },
     "output_type": "unknown"
    }
   ],
   "source": [
    "Console.WriteLine(IsOneAway(tc31,tc32));\r\n"
   ]
  },
  {
   "cell_type": "code",
   "execution_count": null,
   "metadata": {
    "dotnet_interactive": {
     "language": "csharp"
    }
   },
   "outputs": [
    {
     "data": {
      "text/plain": [
       "False\r\n"
      ]
     },
     "output_type": "unknown"
    }
   ],
   "source": [
    "Console.WriteLine(IsOneAway(tc41,tc42));\r\n"
   ]
  }
 ],
 "metadata": {
  "kernelspec": {
   "display_name": ".NET (C#)",
   "language": "C#",
   "name": ".net-csharp"
  },
  "language_info": {
   "name": "C#"
  }
 },
 "nbformat": 4,
 "nbformat_minor": 2
}